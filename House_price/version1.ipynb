{
 "cells": [
  {
   "cell_type": "markdown",
   "metadata": {},
   "source": [
    "# Kaggle房价预测比赛\n",
    "\n",
    "本notebook实现对Kaggle房价预测比赛的解决方案。"
   ]
  },
  {
   "cell_type": "code",
   "execution_count": 2,
   "metadata": {},
   "outputs": [
    {
     "ename": "ModuleNotFoundError",
     "evalue": "No module named 'seaborn'",
     "output_type": "error",
     "traceback": [
      "\u001b[31m---------------------------------------------------------------------------\u001b[39m",
      "\u001b[31mModuleNotFoundError\u001b[39m                       Traceback (most recent call last)",
      "\u001b[36mCell\u001b[39m\u001b[36m \u001b[39m\u001b[32mIn[2]\u001b[39m\u001b[32m, line 5\u001b[39m\n\u001b[32m      3\u001b[39m \u001b[38;5;28;01mimport\u001b[39;00m\u001b[38;5;250m \u001b[39m\u001b[34;01mpandas\u001b[39;00m\u001b[38;5;250m \u001b[39m\u001b[38;5;28;01mas\u001b[39;00m\u001b[38;5;250m \u001b[39m\u001b[34;01mpd\u001b[39;00m\n\u001b[32m      4\u001b[39m \u001b[38;5;28;01mimport\u001b[39;00m\u001b[38;5;250m \u001b[39m\u001b[34;01mmatplotlib\u001b[39;00m\u001b[34;01m.\u001b[39;00m\u001b[34;01mpyplot\u001b[39;00m\u001b[38;5;250m \u001b[39m\u001b[38;5;28;01mas\u001b[39;00m\u001b[38;5;250m \u001b[39m\u001b[34;01mplt\u001b[39;00m\n\u001b[32m----> \u001b[39m\u001b[32m5\u001b[39m \u001b[38;5;28;01mimport\u001b[39;00m\u001b[38;5;250m \u001b[39m\u001b[34;01mseaborn\u001b[39;00m\u001b[38;5;250m \u001b[39m\u001b[38;5;28;01mas\u001b[39;00m\u001b[38;5;250m \u001b[39m\u001b[34;01msns\u001b[39;00m\n\u001b[32m      6\u001b[39m \u001b[38;5;28;01mfrom\u001b[39;00m\u001b[38;5;250m \u001b[39m\u001b[34;01msklearn\u001b[39;00m\u001b[34;01m.\u001b[39;00m\u001b[34;01mmodel_selection\u001b[39;00m\u001b[38;5;250m \u001b[39m\u001b[38;5;28;01mimport\u001b[39;00m train_test_split, cross_val_score\n\u001b[32m      7\u001b[39m \u001b[38;5;28;01mfrom\u001b[39;00m\u001b[38;5;250m \u001b[39m\u001b[34;01msklearn\u001b[39;00m\u001b[34;01m.\u001b[39;00m\u001b[34;01mpreprocessing\u001b[39;00m\u001b[38;5;250m \u001b[39m\u001b[38;5;28;01mimport\u001b[39;00m StandardScaler\n",
      "\u001b[31mModuleNotFoundError\u001b[39m: No module named 'seaborn'"
     ]
    }
   ],
   "source": [
    "# 导入必要的库\n",
    "import numpy as np\n",
    "import pandas as pd\n",
    "import matplotlib.pyplot as plt\n",
    "import seaborn as sns\n",
    "from sklearn.model_selection import train_test_split, cross_val_score\n",
    "from sklearn.preprocessing import StandardScaler\n",
    "from sklearn.linear_model import LinearRegression, Ridge, Lasso\n",
    "from sklearn.ensemble import RandomForestRegressor, GradientBoostingRegressor\n",
    "from sklearn.metrics import mean_squared_error\n",
    "import xgboost as xgb\n",
    "import lightgbm as lgb\n",
    "import warnings\n",
    "warnings.filterwarnings('ignore')"
   ]
  },
  {
   "cell_type": "markdown",
   "metadata": {},
   "source": [
    "## 1. 数据加载"
   ]
  },
  {
   "cell_type": "code",
   "execution_count": null,
   "metadata": {},
   "outputs": [
    {
     "ename": "NameError",
     "evalue": "name 'pd' is not defined",
     "output_type": "error",
     "traceback": [
      "\u001b[31m---------------------------------------------------------------------------\u001b[39m",
      "\u001b[31mNameError\u001b[39m                                 Traceback (most recent call last)",
      "\u001b[36mCell\u001b[39m\u001b[36m \u001b[39m\u001b[32mIn[1]\u001b[39m\u001b[32m, line 2\u001b[39m\n\u001b[32m      1\u001b[39m \u001b[38;5;66;03m# 加载数据\u001b[39;00m\n\u001b[32m----> \u001b[39m\u001b[32m2\u001b[39m train_data = \u001b[43mpd\u001b[49m.read_csv(\u001b[33m'\u001b[39m\u001b[33md:/vscode_program/data/kaggle_house_pred_train.csv\u001b[39m\u001b[33m'\u001b[39m)\n\u001b[32m      3\u001b[39m test_data = pd.read_csv(\u001b[33m'\u001b[39m\u001b[33md:/vscode_program/data/kaggle_house_pred_test.csv\u001b[39m\u001b[33m'\u001b[39m)\n\u001b[32m      5\u001b[39m \u001b[38;5;66;03m# 查看训练数据的基本信息\u001b[39;00m\n",
      "\u001b[31mNameError\u001b[39m: name 'pd' is not defined"
     ]
    }
   ],
   "source": [
    "# 加载数据\n",
    "train_data = pd.read_csv('d:/vscode_program/data/kaggle_house_pred_train.csv')\n",
    "test_data = pd.read_csv('d:/vscode_program/data/kaggle_house_pred_test.csv')\n",
    "\n",
    "# 查看训练数据的基本信息\n",
    "print(f\"训练数据形状: {train_data.shape}\")\n",
    "print(f\"测试数据形状: {test_data.shape}\")\n",
    "train_data.head()"
   ]
  },
  {
   "cell_type": "code",
   "execution_count": null,
   "metadata": {},
   "outputs": [],
   "source": [
    "# 查看数据的基本统计信息\n",
    "train_data.describe()"
   ]
  },
  {
   "cell_type": "code",
   "execution_count": null,
   "metadata": {},
   "outputs": [],
   "source": [
    "# 检查缺失值\n",
    "train_missing = train_data.isnull().sum()\n",
    "test_missing = test_data.isnull().sum()\n",
    "\n",
    "print(\"训练数据缺失值:\")\n",
    "print(train_missing[train_missing > 0])\n",
    "print(\"\\n测试数据缺失值:\")\n",
    "print(test_missing[test_missing > 0])"
   ]
  },
  {
   "cell_type": "markdown",
   "metadata": {},
   "source": [
    "## 2. 数据预处理"
   ]
  },
  {
   "cell_type": "code",
   "execution_count": null,
   "metadata": {},
   "outputs": [],
   "source": [
    "# 合并数据集以便统一处理\n",
    "n_train = train_data.shape[0]\n",
    "all_data = pd.concat([train_data, test_data], axis=0).reset_index(drop=True)\n",
    "\n",
    "# 删除ID列\n",
    "if 'Id' in all_data.columns:\n",
    "    all_data.drop('Id', axis=1, inplace=True)"
   ]
  },
  {
   "cell_type": "code",
   "execution_count": null,
   "metadata": {},
   "outputs": [],
   "source": [
    "# 处理缺失值\n",
    "# 对于数值型特征，使用中位数填充\n",
    "numeric_features = all_data.select_dtypes(include=['int64', 'float64']).columns\n",
    "for feature in numeric_features:\n",
    "    if all_data[feature].isnull().sum() > 0:\n",
    "        all_data[feature].fillna(all_data[feature].median(), inplace=True)\n",
    "\n",
    "# 对于类别型特征，使用众数填充\n",
    "categorical_features = all_data.select_dtypes(include=['object']).columns\n",
    "for feature in categorical_features:\n",
    "    if all_data[feature].isnull().sum() > 0:\n",
    "        all_data[feature].fillna(all_data[feature].mode()[0], inplace=True)"
   ]
  },
  {
   "cell_type": "code",
   "execution_count": null,
   "metadata": {},
   "outputs": [],
   "source": [
    "# 处理类别型特征 - 使用独热编码\n",
    "all_data = pd.get_dummies(all_data, drop_first=True)"
   ]
  },
  {
   "cell_type": "code",
   "execution_count": null,
   "metadata": {},
   "outputs": [],
   "source": [
    "# 分离训练集和测试集\n",
    "train_features = all_data[:n_train]\n",
    "test_features = all_data[n_train:]\n",
    "\n",
    "# 获取目标变量\n",
    "train_labels = train_data['SalePrice']\n",
    "\n",
    "# 对目标变量进行对数变换（使分布更接近正态分布）\n",
    "train_labels = np.log1p(train_labels)"
   ]
  },
  {
   "cell_type": "markdown",
   "metadata": {},
   "source": [
    "## 3. 模型训练与评估"
   ]
  },
  {
   "cell_type": "code",
   "execution_count": null,
   "metadata": {},
   "outputs": [],
   "source": [
    "# 划分训练集和验证集\n",
    "X_train, X_val, y_train, y_val = train_test_split(train_features, train_labels, test_size=0.2, random_state=42)"
   ]
  },
  {
   "cell_type": "code",
   "execution_count": null,
   "metadata": {},
   "outputs": [],
   "source": [
    "# 定义评估函数\n",
    "def rmse_cv(model, X, y):\n",
    "    rmse = np.sqrt(-cross_val_score(model, X, y, scoring='neg_mean_squared_error', cv=5))\n",
    "    return rmse"
   ]
  },
  {
   "cell_type": "code",
   "execution_count": null,
   "metadata": {},
   "outputs": [],
   "source": [
    "# 训练多个模型并评估\n",
    "models = {\n",
    "    'Linear Regression': LinearRegression(),\n",
    "    'Ridge': Ridge(alpha=10),\n",
    "    'Lasso': Lasso(alpha=0.001),\n",
    "    'Random Forest': RandomForestRegressor(n_estimators=100, random_state=42),\n",
    "    'Gradient Boosting': GradientBoostingRegressor(n_estimators=100, random_state=42),\n",
    "    'XGBoost': xgb.XGBRegressor(n_estimators=100, learning_rate=0.05, random_state=42),\n",
    "    'LightGBM': lgb.LGBMRegressor(n_estimators=100, learning_rate=0.05, random_state=42)\n",
    "}\n",
    "\n",
    "results = {}\n",
    "for name, model in models.items():\n",
    "    model.fit(X_train, y_train)\n",
    "    val_pred = model.predict(X_val)\n",
    "    val_rmse = np.sqrt(mean_squared_error(y_val, val_pred))\n",
    "    cv_rmse = rmse_cv(model, train_features, train_labels).mean()\n",
    "    results[name] = {'Validation RMSE': val_rmse, 'CV RMSE': cv_rmse}\n",
    "    print(f\"{name}: Validation RMSE = {val_rmse:.4f}, CV RMSE = {cv_rmse:.4f}\")"
   ]
  },
  {
   "cell_type": "code",
   "execution_count": null,
   "metadata": {},
   "outputs": [],
   "source": [
    "# 可视化模型性能比较\n",
    "cv_results = pd.DataFrame({name: result['CV RMSE'] for name, result in results.items()}, index=['CV RMSE']).T\n",
    "cv_results.sort_values('CV RMSE').plot(kind='bar', figsize=(12, 6))\n",
    "plt.title('模型性能比较 (CV RMSE)')\n",
    "plt.ylabel('RMSE')\n",
    "plt.xticks(rotation=45)\n",
    "plt.tight_layout()\n",
    "plt.show()"
   ]
  },
  {
   "cell_type": "markdown",
   "metadata": {},
   "source": [
    "## 4. 模型融合"
   ]
  },
  {
   "cell_type": "code",
   "execution_count": null,
   "metadata": {},
   "outputs": [],
   "source": [
    "# 选择表现最好的几个模型进行融合\n",
    "best_models = {\n",
    "    'XGBoost': xgb.XGBRegressor(n_estimators=1000, learning_rate=0.05, random_state=42),\n",
    "    'LightGBM': lgb.LGBMRegressor(n_estimators=1000, learning_rate=0.05, random_state=42),\n",
    "    'Gradient Boosting': GradientBoostingRegressor(n_estimators=500, learning_rate=0.05, random_state=42)\n",
    "}\n",
    "\n",
    "# 训练模型\n",
    "for name, model in best_models.items():\n",
    "    model.fit(train_features, train_labels)\n",
    "    print(f\"{name} 模型训练完成\")"
   ]
  },
  {
   "cell_type": "code",
   "execution_count": null,
   "metadata": {},
   "outputs": [],
   "source": [
    "# 对测试集进行预测\n",
    "predictions = {}\n",
    "for name, model in best_models.items():\n",
    "    predictions[name] = model.predict(test_features)\n",
    "    \n",
    "# 融合预测结果（简单平均）\n",
    "ensemble_pred = np.mean([predictions[name] for name in best_models.keys()], axis=0)"
   ]
  },
  {
   "cell_type": "markdown",
   "metadata": {},
   "source": [
    "## 5. 生成提交文件"
   ]
  },
  {
   "cell_type": "code",
   "execution_count": null,
   "metadata": {},
   "outputs": [],
   "source": [
    "# 将对数预测转换回原始值\n",
    "final_predictions = np.expm1(ensemble_pred)\n",
    "\n",
    "# 创建提交文件\n",
    "submission = pd.DataFrame({\n",
    "    'Id': test_data['Id'] if 'Id' in test_data.columns else range(1, len(test_data) + 1),\n",
    "    'SalePrice': final_predictions\n",
    "})\n",
    "\n",
    "# 保存提交文件\n",
    "submission_path = 'd:/vscode_program/House_price/submission.csv'\n",
    "submission.to_csv(submission_path, index=False)\n",
    "print(f\"提交文件已保存至: {submission_path}\")\n",
    "submission.head()"
   ]
  }
 ],
 "metadata": {
  "kernelspec": {
   "display_name": "Python 3",
   "language": "python",
   "name": "python3"
  },
  "language_info": {
   "codemirror_mode": {
    "name": "ipython",
    "version": 3
   },
   "file_extension": ".py",
   "mimetype": "text/x-python",
   "name": "python",
   "nbconvert_exporter": "python",
   "pygments_lexer": "ipython3",
   "version": "3.11.9"
  }
 },
 "nbformat": 4,
 "nbformat_minor": 2
}
